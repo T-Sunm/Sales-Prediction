{
 "cells": [
  {
   "cell_type": "code",
   "execution_count": 2,
   "metadata": {},
   "outputs": [],
   "source": [
    "import numpy as np"
   ]
  },
  {
   "cell_type": "code",
   "execution_count": 3,
   "metadata": {},
   "outputs": [],
   "source": [
    "class CustomLinearRegression:\n",
    "    def __init__(self, x_data, y_target, learning_rate=0.01, num_epochs=10000):\n",
    "        self.num_samples = x_data.shape[0]\n",
    "        self.x_data = np.c_[np.ones((self.num_samples, 1)), x_data]\n",
    "        self.y_target = y_target\n",
    "        self.learning_rate = learning_rate\n",
    "        self.num_epochs = num_epochs\n",
    "        self.theta = np.random.randn(self.x_data.shape[1], 1)\n",
    "        self.losses = []\n",
    "\n",
    "    def compute_loss(self, y_pred, y_target):\n",
    "        loss = (y_pred - y_target)**2\n",
    "        return loss\n",
    "\n",
    "    def predict(self, x_data):\n",
    "        y_pred = x_data.dot(self.theta)\n",
    "        return y_pred\n",
    "\n",
    "    def fit(self):\n",
    "        for epoch in range(self.num_epochs):\n",
    "\n",
    "            # predict\n",
    "            y_pred = self.predict(self.x_data)\n",
    "            \n",
    "            # Compute loss\n",
    "            loss = self.compute_loss(y_pred, self.y_target)\n",
    "            self.losses.append(loss)\n",
    "\n",
    "            # Compute gradient\n",
    "            loss_grd = 2 * (y_pred - self.y_target) / self.num_samples\n",
    "            gradients = self.x_data.T.dot(loss_grd)\n",
    "\n",
    "            # Update weight\n",
    "            self.theta = self.theta - self.learning_rate * gradients\n",
    "\n",
    "            if (epoch % 50) == 0:\n",
    "                print(f'Epoch: {epoch} - Loss: {loss}')\n",
    "\n",
    "        return {\n",
    "            'loss': sum(self.losses) / len(self.losses),\n",
    "            'weights': self.theta\n",
    "        }"
   ]
  },
  {
   "cell_type": "markdown",
   "metadata": {},
   "source": [
    "$R^2 = 1 - \\frac{\\sum_{i=1}^{n}(y_i - \\hat{y_i})^2}{\\sum_{i=1}^{n}(y_i - \\bar{y})^2}$\n",
    "\n",
    "- $\\text{RSS}$ là Residual Sum of Squares (tổng bình phương sai số dự đoán): $\\sum (y_{\\text{pred}} - y)^2$\n",
    "- $\\text{TSS}$ là Total Sum of Squares (tổng bình phương của độ lệch giữa các giá trị thực tế và trung bình): $\\sum (y - \\bar{y})^2$"
   ]
  },
  {
   "cell_type": "code",
   "execution_count": 4,
   "metadata": {},
   "outputs": [],
   "source": [
    "def r2score(y_pred, y):\n",
    "    rss = np.sum((y_pred - y) ** 2)\n",
    "    tss = np.sum((y - y.mean()) ** 2)\n",
    "    r2 = 1 - (rss / tss)\n",
    "    return r2"
   ]
  },
  {
   "cell_type": "code",
   "execution_count": 5,
   "metadata": {},
   "outputs": [
    {
     "name": "stdout",
     "output_type": "stream",
     "text": [
      "1.0\n",
      "-2.235294117647059\n"
     ]
    }
   ],
   "source": [
    "# Case 1\n",
    "y_pred = np.array([1, 2, 3, 4, 5])\n",
    "y = np.array([1, 2, 3, 4, 5])\n",
    "\n",
    "print(r2score(y_pred, y))\n",
    "\n",
    "# Case 2\n",
    "y_pred = np.array([1, 2, 3, 4, 5])\n",
    "y = np.array([3, 5, 5, 2, 4])\n",
    "print(r2score(y_pred, y))"
   ]
  }
 ],
 "metadata": {
  "kernelspec": {
   "display_name": "40daysPython_env",
   "language": "python",
   "name": "python3"
  },
  "language_info": {
   "codemirror_mode": {
    "name": "ipython",
    "version": 3
   },
   "file_extension": ".py",
   "mimetype": "text/x-python",
   "name": "python",
   "nbconvert_exporter": "python",
   "pygments_lexer": "ipython3",
   "version": "3.10.13"
  }
 },
 "nbformat": 4,
 "nbformat_minor": 2
}
