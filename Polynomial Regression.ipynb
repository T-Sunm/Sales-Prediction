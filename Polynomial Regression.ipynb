{
 "cells": [
  {
   "cell_type": "code",
   "execution_count": 44,
   "metadata": {},
   "outputs": [],
   "source": [
    "import numpy as np"
   ]
  },
  {
   "cell_type": "markdown",
   "metadata": {},
   "source": [
    "numpy.concatenate()\n",
    "- Công dụng: Dùng để nối các mảng lại với nhau theo một trục (axis) xác định.\n",
    "\n",
    "numpy.c_[]\n",
    "- Công dụng: chủ yếu được dùng để thêm cột vào một mảng 2D hoặc chuyển một mảng 1D thành dạng 2D bằng cách nối theo chiều dọc (axis 1)."
   ]
  },
  {
   "cell_type": "markdown",
   "metadata": {},
   "source": [
    "### Câu 7: Polynomial feature cho hàm đơn biến"
   ]
  },
  {
   "cell_type": "code",
   "execution_count": 45,
   "metadata": {},
   "outputs": [
    {
     "name": "stdout",
     "output_type": "stream",
     "text": [
      "[[1 1]\n",
      " [2 4]\n",
      " [3 9]]\n"
     ]
    }
   ],
   "source": [
    "def create_polynomial_features(x, degree=2):\n",
    "    \"\"\" \n",
    "    Creates the polynomial features\n",
    "    Args:\n",
    "        x: A array tensor for the data.\n",
    "        degree: An integer for the degree of the generated polynomial function.\n",
    "    \"\"\"\n",
    "    \n",
    "    x_new = x\n",
    "    for d in range(2, degree +1):\n",
    "        # Nối các mảng 2D theo chiều dọc (như concatenate với axis=1)\n",
    "        x_new = np.c_[x_new, np.power(x, d)]\n",
    "    return x_new\n",
    "\n",
    "x = np.array([[1], \n",
    "              [2], \n",
    "              [3]])\n",
    "print(create_polynomial_features(x, 2))"
   ]
  },
  {
   "cell_type": "markdown",
   "metadata": {},
   "source": [
    "### Câu 8 : polynomial feature đa biến"
   ]
  },
  {
   "cell_type": "markdown",
   "metadata": {},
   "source": [
    "#### Cách cá nhân"
   ]
  },
  {
   "cell_type": "code",
   "execution_count": 46,
   "metadata": {},
   "outputs": [
    {
     "name": "stdout",
     "output_type": "stream",
     "text": [
      "[[ 1  1  2  4]\n",
      " [ 2  4  3  9]\n",
      " [ 3  9  4 16]]\n"
     ]
    }
   ],
   "source": [
    "def create_polynomial_features(x:np.ndarray, degree=2):\n",
    "    \"\"\" \n",
    "    Creates the polynomial features\n",
    "    Args:\n",
    "        x: A array tensor for the data.\n",
    "        degree: An integer for the degree of the generated polynomial function.\n",
    "    \"\"\"\n",
    "\n",
    "    x_new = x\n",
    "    for d in range(2, degree + 1):\n",
    "        for i_feat in range(x.shape[1] - 1):\n",
    "            # Nối các mảng 2D theo chiều dọc (như concatenate với axis=1)\n",
    "            x_new = np.insert(x_new, i_feat + 1, np.power(x[:, i_feat], d), axis=1)\n",
    "        \n",
    "        x_new = np.c_[x_new, np.power(x[:, -1], d)]\n",
    "    return x_new\n",
    "\n",
    "\n",
    "x = np.array([[1, 2],\n",
    "              [2, 3],\n",
    "              [3, 4]])\n",
    "print(create_polynomial_features(x, 2))"
   ]
  },
  {
   "cell_type": "code",
   "execution_count": 47,
   "metadata": {},
   "outputs": [
    {
     "name": "stdout",
     "output_type": "stream",
     "text": [
      "[[1 1 2]\n",
      " [2 4 3]\n",
      " [3 9 4]]\n"
     ]
    }
   ],
   "source": [
    "x = np.array([[1, 2],\n",
    "              [2, 3],\n",
    "              [3, 4]])\n",
    "x_new = x \n",
    "x_new = np.insert(x, 1, np.power(x[:, 0], 2), axis=1)\n",
    "print(x_new)"
   ]
  },
  {
   "cell_type": "markdown",
   "metadata": {},
   "source": [
    "#### Cách theo đề"
   ]
  },
  {
   "cell_type": "code",
   "execution_count": 49,
   "metadata": {},
   "outputs": [
    {
     "name": "stdout",
     "output_type": "stream",
     "text": [
      "[array([1, 2, 3]), array([1, 4, 9]), array([2, 3, 4]), array([ 4,  9, 16])]\n",
      "[[ 1  1  2  4]\n",
      " [ 2  4  3  9]\n",
      " [ 3  9  4 16]]\n"
     ]
    }
   ],
   "source": [
    "def create_polynomial_features(X, degree=2):\n",
    "    \"\"\"Creates the polynomial features.\n",
    "    \n",
    "    Args:\n",
    "        X: A numpy array for the data.\n",
    "        degree: An integer for the degree of the generated polynomial function.\n",
    "    \"\"\"\n",
    "    X_mem = []\n",
    "    for X_sub in X.T:\n",
    "        X_sub = X_sub.T\n",
    "        X_new = X_sub\n",
    "        for d in range(2, degree + 1):\n",
    "            X_new = np.c_[X_new, np.power(X_sub, d)]\n",
    "        X_mem.extend(X_new.T)\n",
    "    print(X_mem)\n",
    "    return np.c_[X_mem].T\n",
    "\n",
    "\n",
    "x = np.array([[1, 2],\n",
    "              [2, 3],\n",
    "              [3, 4]])\n",
    "\n",
    "print(create_polynomial_features(x, 2))"
   ]
  }
 ],
 "metadata": {
  "kernelspec": {
   "display_name": "40daysPython_env",
   "language": "python",
   "name": "python3"
  },
  "language_info": {
   "codemirror_mode": {
    "name": "ipython",
    "version": 3
   },
   "file_extension": ".py",
   "mimetype": "text/x-python",
   "name": "python",
   "nbconvert_exporter": "python",
   "pygments_lexer": "ipython3",
   "version": "3.10.13"
  }
 },
 "nbformat": 4,
 "nbformat_minor": 2
}
